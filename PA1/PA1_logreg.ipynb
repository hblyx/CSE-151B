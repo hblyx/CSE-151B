{
 "cells": [
  {
   "cell_type": "markdown",
   "source": [
    "# Programming Assignment 1"
   ],
   "metadata": {
    "collapsed": false,
    "pycharm": {
     "name": "#%% md\n"
    }
   }
  },
  {
   "cell_type": "code",
   "execution_count": 1,
   "outputs": [],
   "source": [
    "# Setup and load starter codes\n",
    "import argparse\n",
    "\n",
    "import numpy as np\n",
    "\n",
    "import data\n",
    "import network\n",
    "import math\n",
    "\n",
    "from matplotlib import pyplot as plt\n",
    "\n",
    "np.random.seed(seed = 100) # fix random seed to make things reproducible"
   ],
   "metadata": {
    "collapsed": false,
    "pycharm": {
     "name": "#%%\n"
    }
   }
  },
  {
   "cell_type": "markdown",
   "source": [],
   "metadata": {
    "collapsed": false
   }
  },
  {
   "cell_type": "markdown",
   "source": [
    "## Loading Data"
   ],
   "metadata": {
    "collapsed": false,
    "pycharm": {
     "name": "#%% md\n"
    }
   }
  },
  {
   "cell_type": "code",
   "execution_count": 2,
   "outputs": [
    {
     "data": {
      "text/plain": "((60000, 784), (60000,))"
     },
     "execution_count": 2,
     "metadata": {},
     "output_type": "execute_result"
    }
   ],
   "source": [
    "train_val = data.load_data()\n",
    "train_val[0].shape, train_val[1].shape"
   ],
   "metadata": {
    "collapsed": false,
    "pycharm": {
     "name": "#%%\n"
    }
   }
  },
  {
   "cell_type": "code",
   "execution_count": 3,
   "outputs": [
    {
     "data": {
      "text/plain": "((10000, 784), (10000,))"
     },
     "execution_count": 3,
     "metadata": {},
     "output_type": "execute_result"
    }
   ],
   "source": [
    "test = data.load_data(train=False)\n",
    "test[0].shape, test[1].shape"
   ],
   "metadata": {
    "collapsed": false,
    "pycharm": {
     "name": "#%%\n"
    }
   }
  },
  {
   "cell_type": "markdown",
   "source": [
    "## Data EDA\n",
    "\n",
    "### Training"
   ],
   "metadata": {
    "collapsed": false,
    "pycharm": {
     "name": "#%% md\n"
    }
   }
  },
  {
   "cell_type": "code",
   "execution_count": 4,
   "outputs": [
    {
     "data": {
      "text/plain": "array([6000., 6000., 6000., 6000., 6000., 6000., 6000., 6000., 6000.,\n       6000.])"
     },
     "execution_count": 4,
     "metadata": {},
     "output_type": "execute_result"
    }
   ],
   "source": [
    "# Classes distribution\n",
    "c_counts = np.zeros(10)\n",
    "for c in train_val[1]:\n",
    "    c_counts[c] += 1\n",
    "c_counts"
   ],
   "metadata": {
    "collapsed": false,
    "pycharm": {
     "name": "#%%\n"
    }
   }
  },
  {
   "cell_type": "markdown",
   "source": [
    "### Test"
   ],
   "metadata": {
    "collapsed": false,
    "pycharm": {
     "name": "#%% md\n"
    }
   }
  },
  {
   "cell_type": "code",
   "execution_count": 5,
   "outputs": [
    {
     "data": {
      "text/plain": "array([1000., 1000., 1000., 1000., 1000., 1000., 1000., 1000., 1000.,\n       1000.])"
     },
     "execution_count": 5,
     "metadata": {},
     "output_type": "execute_result"
    }
   ],
   "source": [
    "# Classes distribution\n",
    "c_counts = np.zeros(10)\n",
    "for c in test[1]:\n",
    "    c_counts[c] += 1\n",
    "c_counts"
   ],
   "metadata": {
    "collapsed": false,
    "pycharm": {
     "name": "#%%\n"
    }
   }
  },
  {
   "cell_type": "markdown",
   "source": [
    "## Logistic Regression\n",
    "\n",
    "### Pre-process\n",
    "Get two sets of data for the logistic regression"
   ],
   "metadata": {
    "collapsed": false,
    "pycharm": {
     "name": "#%% md\n"
    }
   }
  },
  {
   "cell_type": "code",
   "execution_count": 6,
   "outputs": [],
   "source": [
    "# filter dataset before start\n",
    "def set1_filter(dataset):\n",
    "    # 0 or 6\n",
    "    idx = []\n",
    "    img, lab = dataset\n",
    "    for i in range(len(lab)):\n",
    "        if lab[i] == 0 or lab[i] == 6:\n",
    "            idx.append(i)\n",
    "\n",
    "    return img[idx], lab[idx]\n",
    "\n",
    "def set2_filter(dataset):\n",
    "    # 2 or 6\n",
    "    idx = []\n",
    "    img, lab = dataset\n",
    "    for i in range(len(lab)):\n",
    "        if lab[i] == 2 or lab[i] == 6:\n",
    "            idx.append(i)\n",
    "\n",
    "    return img[idx], lab[idx]"
   ],
   "metadata": {
    "collapsed": false,
    "pycharm": {
     "name": "#%%\n"
    }
   }
  },
  {
   "cell_type": "code",
   "execution_count": 7,
   "outputs": [
    {
     "name": "stdout",
     "output_type": "stream",
     "text": [
      "(12000, 784) (12000,)\n",
      "(12000, 784) (12000,)\n"
     ]
    }
   ],
   "source": [
    "train_set1 = set1_filter(train_val)\n",
    "print(train_set1[0].shape, train_set1[1].shape)\n",
    "train_set2 = set2_filter(train_val)\n",
    "print(train_set2[0].shape, train_set2[1].shape)"
   ],
   "metadata": {
    "collapsed": false,
    "pycharm": {
     "name": "#%%\n"
    }
   }
  },
  {
   "cell_type": "code",
   "execution_count": 8,
   "outputs": [
    {
     "name": "stdout",
     "output_type": "stream",
     "text": [
      "(2000, 784) (2000,)\n",
      "(2000, 784) (2000,)\n"
     ]
    }
   ],
   "source": [
    "test_set1 = set1_filter(test)\n",
    "print(test_set1[0].shape, test_set1[1].shape)\n",
    "test_set2 = set2_filter(test)\n",
    "print(test_set2[0].shape, test_set2[1].shape)"
   ],
   "metadata": {
    "collapsed": false,
    "pycharm": {
     "name": "#%%\n"
    }
   }
  },
  {
   "cell_type": "code",
   "execution_count": 9,
   "outputs": [],
   "source": [
    "# put data into X and y respectively\n",
    "train_X_set1, train_y_set1 = train_set1[0], train_set1[1]\n",
    "train_X_set2, train_y_set2 = train_set2[0], train_set2[1]\n",
    "test_X_set1, test_y_set1 = test_set1[0], test_set1[1]\n",
    "test_X_set2, test_y_set2 = test_set2[0], test_set2[1]"
   ],
   "metadata": {
    "collapsed": false,
    "pycharm": {
     "name": "#%%\n"
    }
   }
  },
  {
   "cell_type": "code",
   "execution_count": 10,
   "outputs": [],
   "source": [
    "# normalize X\n",
    "train_X_set1 = data.min_max_normalize(train_X_set1)\n",
    "train_X_set2 = data.min_max_normalize(train_X_set2)\n",
    "test_X_set1 = data.min_max_normalize(test_X_set1)\n",
    "test_X_set2 = data.min_max_normalize(test_X_set2)"
   ],
   "metadata": {
    "collapsed": false,
    "pycharm": {
     "name": "#%%\n"
    }
   }
  },
  {
   "cell_type": "code",
   "execution_count": 11,
   "outputs": [],
   "source": [
    "# change labels for logistic regression\n",
    "# for set 1, set 6 to be 1, and 0 to be 0\n",
    "train_y_set1 = np.where(train_y_set1 == 6, 1, train_y_set1)\n",
    "\n",
    "test_y_set1 = np.where(test_y_set1 == 6, 1, test_y_set1)\n",
    "\n",
    "# for set 2, set 6 to be 1, and 2 to be 0\n",
    "train_y_set2 = np.where(train_y_set2 == 6, 1, train_y_set2)\n",
    "train_y_set2 = np.where(train_y_set2 == 2, 0, train_y_set2)\n",
    "\n",
    "test_y_set2 = np.where(test_y_set2 == 6, 1, test_y_set2)\n",
    "test_y_set2 = np.where(test_y_set2 == 2, 0, test_y_set2)"
   ],
   "metadata": {
    "collapsed": false,
    "pycharm": {
     "name": "#%%\n"
    }
   }
  },
  {
   "cell_type": "code",
   "execution_count": 12,
   "outputs": [],
   "source": [
    "# merge things back\n",
    "train_val_set1 = (train_X_set1, train_y_set1)\n",
    "train_val_set2 = (train_X_set2, train_y_set2)\n",
    "test_set1 = (test_X_set1, test_y_set1)\n",
    "test_set2 = (test_X_set2, test_y_set2)"
   ],
   "metadata": {
    "collapsed": false,
    "pycharm": {
     "name": "#%%\n"
    }
   }
  },
  {
   "cell_type": "markdown",
   "source": [
    "### Default Setting"
   ],
   "metadata": {
    "collapsed": false,
    "pycharm": {
     "name": "#%% md\n"
    }
   }
  },
  {
   "cell_type": "code",
   "execution_count": 13,
   "outputs": [],
   "source": [
    "# training and validation\n",
    "def cross_validation(dataset, hyperparameters, activation, loss, out_dim):\n",
    "    regressor = network.Network(hyperparameters, activation, loss, out_dim)\n",
    "\n",
    "    losses_train = []\n",
    "    losses_val = []\n",
    "\n",
    "    accs_val = []\n",
    "\n",
    "    best_weights = regressor.weights # initialize it to the current weights\n",
    "    k = 0\n",
    "\n",
    "    for train, val in data.generate_k_fold_set(dataset, k=hyperparameters[\"k_folds\"]):\n",
    "        for epoch in range(hyperparameters[\"epochs\"]):\n",
    "            loss_train = [] # training loss per epoch including all mini-batchs\n",
    "            for minibatch in data.generate_minibatches(train, batch_size=hyperparameters[\"batch_size\"]): # SGD\n",
    "                loss_batch, _ = regressor.train(minibatch)\n",
    "                loss_train.append(loss_batch)\n",
    "\n",
    "            loss_val, acc_val = regressor.test(val) # use the current weight to get a validation loss\n",
    "\n",
    "            loss_train = np.mean(loss_train) # average all mini-batchs\n",
    "            losses_train.append(loss_train)\n",
    "            losses_val.append(loss_val)\n",
    "            accs_val.append(acc_val)\n",
    "\n",
    "            if loss_val <= losses_val[-1]: # if the val loss is less than the previous\n",
    "                best_weights = regressor.weights # update the weights\n",
    "            else: # if the val loss goes up\n",
    "                break # stop training\n",
    "\n",
    "        k += 1\n",
    "        print(\"k\", k, \"done\")\n",
    "\n",
    "    regressor.weights = best_weights # after training, assign the best weight to the regressor\n",
    "\n",
    "    plt.plot(losses_train)\n",
    "    plt.plot(losses_val)\n",
    "\n",
    "    return regressor"
   ],
   "metadata": {
    "collapsed": false,
    "pycharm": {
     "name": "#%%\n"
    }
   }
  },
  {
   "cell_type": "code",
   "execution_count": 14,
   "outputs": [
    {
     "name": "stdout",
     "output_type": "stream",
     "text": [
      "k 1 done\n",
      "k 2 done\n",
      "k 3 done\n",
      "k 4 done\n",
      "k 5 done\n",
      "k 6 done\n",
      "k 7 done\n",
      "k 8 done\n",
      "k 9 done\n",
      "k 10 done\n"
     ]
    },
    {
     "data": {
      "text/plain": "<network.Network at 0x217ff254220>"
     },
     "execution_count": 14,
     "metadata": {},
     "output_type": "execute_result"
    },
    {
     "data": {
      "text/plain": "<Figure size 432x288 with 1 Axes>",
      "image/png": "[encoded data removed]"
     },
     "metadata": {
      "needs_background": "light"
     },
     "output_type": "display_data"
    }
   ],
   "source": [
    "hyperparameters = {\"epochs\": 100,\n",
    "                   \"batch_size\": 64,\n",
    "                   \"learning_rate\": 0.001,\n",
    "                   \"k_folds\": 10}\n",
    "\n",
    "cross_validation(train_val_set1, hyperparameters, network.softmax, network.multiclass_cross_entropy, 2)"
   ],
   "metadata": {
    "collapsed": false,
    "pycharm": {
     "name": "#%%\n"
    }
   }
  },
  {
   "cell_type": "markdown",
   "source": [],
   "metadata": {
    "collapsed": false
   }
  },
  {
   "cell_type": "markdown",
   "source": [],
   "metadata": {
    "collapsed": false
   }
  }
 ],
 "metadata": {
  "kernelspec": {
   "display_name": "Python 3",
   "language": "python",
   "name": "python3"
  },
  "language_info": {
   "codemirror_mode": {
    "name": "ipython",
    "version": 2
   },
   "file_extension": ".py",
   "mimetype": "text/x-python",
   "name": "python",
   "nbconvert_exporter": "python",
   "pygments_lexer": "ipython2",
   "version": "2.7.6"
  }
 },
 "nbformat": 4,
 "nbformat_minor": 0
}