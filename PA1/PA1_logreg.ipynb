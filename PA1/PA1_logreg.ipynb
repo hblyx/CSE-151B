{
 "cells": [
  {
   "cell_type": "markdown",
   "source": [
    "# Programming Assignment 1"
   ],
   "metadata": {
    "collapsed": false,
    "pycharm": {
     "name": "#%% md\n"
    }
   }
  },
  {
   "cell_type": "code",
   "execution_count": 1,
   "outputs": [],
   "source": [
    "# Setup and load starter codes\n",
    "\n",
    "import numpy as np\n",
    "\n",
    "import data\n",
    "import network\n",
    "\n",
    "from matplotlib import pyplot as plt\n",
    "\n",
    "np.random.seed(seed = 100) # fix random seed to make things reproducible"
   ],
   "metadata": {
    "collapsed": false,
    "pycharm": {
     "name": "#%%\n"
    }
   }
  },
  {
   "cell_type": "markdown",
   "source": [],
   "metadata": {
    "collapsed": false
   }
  },
  {
   "cell_type": "markdown",
   "source": [
    "## Loading Data"
   ],
   "metadata": {
    "collapsed": false,
    "pycharm": {
     "name": "#%% md\n"
    }
   }
  },
  {
   "cell_type": "code",
   "execution_count": 2,
   "outputs": [
    {
     "data": {
      "text/plain": "((60000, 784), (60000,))"
     },
     "execution_count": 2,
     "metadata": {},
     "output_type": "execute_result"
    }
   ],
   "source": [
    "train = data.load_data()\n",
    "train[0].shape, train[1].shape"
   ],
   "metadata": {
    "collapsed": false,
    "pycharm": {
     "name": "#%%\n"
    }
   }
  },
  {
   "cell_type": "code",
   "execution_count": 3,
   "outputs": [
    {
     "data": {
      "text/plain": "((10000, 784), (10000,))"
     },
     "execution_count": 3,
     "metadata": {},
     "output_type": "execute_result"
    }
   ],
   "source": [
    "test = data.load_data(train=False)\n",
    "test[0].shape, test[1].shape"
   ],
   "metadata": {
    "collapsed": false,
    "pycharm": {
     "name": "#%%\n"
    }
   }
  },
  {
   "cell_type": "markdown",
   "source": [
    "## Data EDA\n",
    "\n",
    "### Training"
   ],
   "metadata": {
    "collapsed": false,
    "pycharm": {
     "name": "#%% md\n"
    }
   }
  },
  {
   "cell_type": "code",
   "execution_count": 4,
   "outputs": [
    {
     "data": {
      "text/plain": "array([6000., 6000., 6000., 6000., 6000., 6000., 6000., 6000., 6000.,\n       6000.])"
     },
     "execution_count": 4,
     "metadata": {},
     "output_type": "execute_result"
    }
   ],
   "source": [
    "# Classes distribution\n",
    "c_counts = np.zeros(10)\n",
    "for c in train[1]:\n",
    "    c_counts[c] += 1\n",
    "c_counts"
   ],
   "metadata": {
    "collapsed": false,
    "pycharm": {
     "name": "#%%\n"
    }
   }
  },
  {
   "cell_type": "markdown",
   "source": [
    "### Test"
   ],
   "metadata": {
    "collapsed": false,
    "pycharm": {
     "name": "#%% md\n"
    }
   }
  },
  {
   "cell_type": "code",
   "execution_count": 5,
   "outputs": [
    {
     "data": {
      "text/plain": "array([1000., 1000., 1000., 1000., 1000., 1000., 1000., 1000., 1000.,\n       1000.])"
     },
     "execution_count": 5,
     "metadata": {},
     "output_type": "execute_result"
    }
   ],
   "source": [
    "# Classes distribution\n",
    "c_counts = np.zeros(10)\n",
    "for c in test[1]:\n",
    "    c_counts[c] += 1\n",
    "c_counts"
   ],
   "metadata": {
    "collapsed": false,
    "pycharm": {
     "name": "#%%\n"
    }
   }
  },
  {
   "cell_type": "markdown",
   "source": [
    "## Logistic Regression\n",
    "\n",
    "### Pre-process\n",
    "Get two sets of data for the logistic regression"
   ],
   "metadata": {
    "collapsed": false,
    "pycharm": {
     "name": "#%% md\n"
    }
   }
  },
  {
   "cell_type": "code",
   "execution_count": 6,
   "outputs": [],
   "source": [
    "# filter dataset before start\n",
    "def set1_filter(dataset):\n",
    "    # 0 or 6\n",
    "    idx = []\n",
    "    img, lab = dataset\n",
    "    for i in range(len(lab)):\n",
    "        if lab[i] == 0 or lab[i] == 6:\n",
    "            idx.append(i)\n",
    "\n",
    "    return img[idx], lab[idx]\n",
    "\n",
    "def set2_filter(dataset):\n",
    "    # 2 or 6\n",
    "    idx = []\n",
    "    img, lab = dataset\n",
    "    for i in range(len(lab)):\n",
    "        if lab[i] == 2 or lab[i] == 6:\n",
    "            idx.append(i)\n",
    "\n",
    "    return img[idx], lab[idx]"
   ],
   "metadata": {
    "collapsed": false,
    "pycharm": {
     "name": "#%%\n"
    }
   }
  },
  {
   "cell_type": "code",
   "execution_count": 7,
   "outputs": [
    {
     "name": "stdout",
     "output_type": "stream",
     "text": [
      "(12000, 784) (12000,)\n",
      "(12000, 784) (12000,)\n"
     ]
    }
   ],
   "source": [
    "train_set1 = set1_filter(train)\n",
    "print(train_set1[0].shape, train_set1[1].shape)\n",
    "train_set2 = set2_filter(train)\n",
    "print(train_set2[0].shape, train_set2[1].shape)"
   ],
   "metadata": {
    "collapsed": false,
    "pycharm": {
     "name": "#%%\n"
    }
   }
  },
  {
   "cell_type": "code",
   "execution_count": 8,
   "outputs": [
    {
     "name": "stdout",
     "output_type": "stream",
     "text": [
      "(2000, 784) (2000,)\n",
      "(2000, 784) (2000,)\n"
     ]
    }
   ],
   "source": [
    "test_set1 = set1_filter(test)\n",
    "print(test_set1[0].shape, test_set1[1].shape)\n",
    "test_set2 = set2_filter(test)\n",
    "print(test_set2[0].shape, test_set2[1].shape)"
   ],
   "metadata": {
    "collapsed": false,
    "pycharm": {
     "name": "#%%\n"
    }
   }
  },
  {
   "cell_type": "code",
   "execution_count": 9,
   "outputs": [],
   "source": [
    "# put data into X and y respectively\n",
    "train_X_set1, train_y_set1 = train_set1[0], train_set1[1]\n",
    "train_X_set2, train_y_set2 = train_set2[0], train_set2[1]\n",
    "test_X_set1, test_y_set1 = test_set1[0], test_set1[1]\n",
    "test_X_set2, test_y_set2 = test_set2[0], test_set2[1]"
   ],
   "metadata": {
    "collapsed": false,
    "pycharm": {
     "name": "#%%\n"
    }
   }
  },
  {
   "cell_type": "code",
   "execution_count": 10,
   "outputs": [],
   "source": [
    "# normalize X\n",
    "train_X_set1 = data.z_score_normalize(train_X_set1)\n",
    "train_X_set2 = data.z_score_normalize(train_X_set2)\n",
    "test_X_set1 = data.z_score_normalize(test_X_set1)\n",
    "test_X_set2 = data.z_score_normalize(test_X_set2)"
   ],
   "metadata": {
    "collapsed": false,
    "pycharm": {
     "name": "#%%\n"
    }
   }
  },
  {
   "cell_type": "code",
   "execution_count": 10,
   "outputs": [],
   "source": [],
   "metadata": {
    "collapsed": false,
    "pycharm": {
     "name": "#%%\n"
    }
   }
  }
 ],
 "metadata": {
  "kernelspec": {
   "display_name": "Python 3",
   "language": "python",
   "name": "python3"
  },
  "language_info": {
   "codemirror_mode": {
    "name": "ipython",
    "version": 2
   },
   "file_extension": ".py",
   "mimetype": "text/x-python",
   "name": "python",
   "nbconvert_exporter": "python",
   "pygments_lexer": "ipython2",
   "version": "2.7.6"
  }
 },
 "nbformat": 4,
 "nbformat_minor": 0
}