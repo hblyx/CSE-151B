{
 "cells": [
  {
   "cell_type": "code",
   "execution_count": 1,
   "metadata": {
    "collapsed": true,
    "pycharm": {
     "name": "#%%\n"
    }
   },
   "outputs": [],
   "source": [
    "import numpy as np\n",
    "import pandas as pd\n",
    "\n",
    "from train import *\n",
    "from neuralnet import *\n",
    "from data import load_data, load_config, z_score_normalize, split_train_val\n",
    "from matplotlib import pyplot as plt\n",
    "\n",
    "np.random.seed(seed = 100) # fix random seed to make things reproducible"
   ]
  },
  {
   "cell_type": "markdown",
   "source": [
    "## (a) Loading Data"
   ],
   "metadata": {
    "collapsed": false,
    "pycharm": {
     "name": "#%% md\n"
    }
   }
  },
  {
   "cell_type": "code",
   "execution_count": 2,
   "outputs": [
    {
     "data": {
      "text/plain": "((60000, 784), (60000,))"
     },
     "execution_count": 2,
     "metadata": {},
     "output_type": "execute_result"
    }
   ],
   "source": [
    "train_val = load_data()\n",
    "train_val[0].shape, train_val[1].shape"
   ],
   "metadata": {
    "collapsed": false,
    "pycharm": {
     "name": "#%%\n"
    }
   }
  },
  {
   "cell_type": "code",
   "execution_count": 3,
   "outputs": [
    {
     "data": {
      "text/plain": "((10000, 784), (10000,))"
     },
     "execution_count": 3,
     "metadata": {},
     "output_type": "execute_result"
    }
   ],
   "source": [
    "test_set = load_data(train=False)\n",
    "test_set[0].shape, test_set[1].shape"
   ],
   "metadata": {
    "collapsed": false,
    "pycharm": {
     "name": "#%%\n"
    }
   }
  },
  {
   "cell_type": "code",
   "execution_count": 4,
   "outputs": [],
   "source": [
    "# load config as well\n",
    "config = load_config((\"./config.yaml\"))"
   ],
   "metadata": {
    "collapsed": false,
    "pycharm": {
     "name": "#%%\n"
    }
   }
  },
  {
   "cell_type": "markdown",
   "source": [
    "### Pre-process\n",
    "#### Normalization"
   ],
   "metadata": {
    "collapsed": false,
    "pycharm": {
     "name": "#%% md\n"
    }
   }
  },
  {
   "cell_type": "code",
   "execution_count": 5,
   "outputs": [],
   "source": [
    "train_x, train_y = train_val\n",
    "train_x, _ = z_score_normalize(train_x)\n",
    "train_val = train_x, train_y\n",
    "\n",
    "test_x, test_y = test_set\n",
    "test_x, _ = z_score_normalize(test_x)\n",
    "test_set = test_x, test_y"
   ],
   "metadata": {
    "collapsed": false,
    "pycharm": {
     "name": "#%%\n"
    }
   }
  },
  {
   "cell_type": "markdown",
   "source": [
    "#### Split Data"
   ],
   "metadata": {
    "collapsed": false,
    "pycharm": {
     "name": "#%% md\n"
    }
   }
  },
  {
   "cell_type": "code",
   "execution_count": 6,
   "outputs": [],
   "source": [
    "x_train, y_train, x_val, y_val = split_train_val(train_val, 0.8)\n",
    "x_test, y_test = test_set"
   ],
   "metadata": {
    "collapsed": false,
    "pycharm": {
     "name": "#%%\n"
    }
   }
  },
  {
   "cell_type": "markdown",
   "source": [
    "## (b) Check gradient implementation\n",
    "\n",
    "We only use an example of data to do this part. Thus, we use 1000 random data from the train/validation set."
   ],
   "metadata": {
    "collapsed": false,
    "pycharm": {
     "name": "#%% md\n"
    }
   }
  },
  {
   "cell_type": "code",
   "execution_count": 7,
   "outputs": [
    {
     "data": {
      "text/plain": "           name of weight              difference        actual gradient  \\\n0             output bias  2.0322590583467248e-07   0.012671104872593866   \n1             hidden bias  2.8679598496478276e-06    -0.1182257632568207   \n2  hidden-output weight_1   7.966632269151841e-08   0.009273564165974427   \n3  hidden-output weight_2   8.285477127133178e-08   0.009660359079762365   \n4   input-hidden weight_1   3.513123377277272e-10   0.005871529380401278   \n5   input-hidden weight_2   2.677261424707811e-10  -0.005488742979949136   \n\n      estimated gradient  \n0     0.0126713080984997  \n1   -0.11822289529697105  \n2   0.009273643832297118  \n3   0.009660441934533637  \n4    0.00587152902908894  \n5  -0.005488742712222994  ",
      "text/html": "<div>\n<style scoped>\n    .dataframe tbody tr th:only-of-type {\n        vertical-align: middle;\n    }\n\n    .dataframe tbody tr th {\n        vertical-align: top;\n    }\n\n    .dataframe thead th {\n        text-align: right;\n    }\n</style>\n<table border=\"1\" class=\"dataframe\">\n  <thead>\n    <tr style=\"text-align: right;\">\n      <th></th>\n      <th>name of weight</th>\n      <th>difference</th>\n      <th>actual gradient</th>\n      <th>estimated gradient</th>\n    </tr>\n  </thead>\n  <tbody>\n    <tr>\n      <th>0</th>\n      <td>output bias</td>\n      <td>2.0322590583467248e-07</td>\n      <td>0.012671104872593866</td>\n      <td>0.0126713080984997</td>\n    </tr>\n    <tr>\n      <th>1</th>\n      <td>hidden bias</td>\n      <td>2.8679598496478276e-06</td>\n      <td>-0.1182257632568207</td>\n      <td>-0.11822289529697105</td>\n    </tr>\n    <tr>\n      <th>2</th>\n      <td>hidden-output weight_1</td>\n      <td>7.966632269151841e-08</td>\n      <td>0.009273564165974427</td>\n      <td>0.009273643832297118</td>\n    </tr>\n    <tr>\n      <th>3</th>\n      <td>hidden-output weight_2</td>\n      <td>8.285477127133178e-08</td>\n      <td>0.009660359079762365</td>\n      <td>0.009660441934533637</td>\n    </tr>\n    <tr>\n      <th>4</th>\n      <td>input-hidden weight_1</td>\n      <td>3.513123377277272e-10</td>\n      <td>0.005871529380401278</td>\n      <td>0.00587152902908894</td>\n    </tr>\n    <tr>\n      <th>5</th>\n      <td>input-hidden weight_2</td>\n      <td>2.677261424707811e-10</td>\n      <td>-0.005488742979949136</td>\n      <td>-0.005488742712222994</td>\n    </tr>\n  </tbody>\n</table>\n</div>"
     },
     "execution_count": 7,
     "metadata": {},
     "output_type": "execute_result"
    }
   ],
   "source": [
    "pd.DataFrame(check_gradients(train_val, config), columns=[\"name of weight\", \"difference\", \"actual gradient\", \"estimated gradient\"])"
   ],
   "metadata": {
    "collapsed": false,
    "pycharm": {
     "name": "#%%\n"
    }
   }
  },
  {
   "cell_type": "markdown",
   "source": [
    "## (c)"
   ],
   "metadata": {
    "collapsed": false
   }
  },
  {
   "cell_type": "markdown",
   "source": [
    "### With default configrations\n",
    "#### NOTE: early_stopping=False"
   ],
   "metadata": {
    "collapsed": false,
    "pycharm": {
     "name": "#%% md\n"
    }
   }
  },
  {
   "cell_type": "code",
   "execution_count": 8,
   "outputs": [],
   "source": [
    "train_acc, valid_acc, train_loss, valid_loss, best_model = train(x_train, y_train, x_val, y_val, config)\n",
    "\n",
    "test_loss, test_acc = test(best_model, x_test, y_test)"
   ],
   "metadata": {
    "collapsed": false,
    "pycharm": {
     "name": "#%%\n"
    }
   }
  },
  {
   "cell_type": "code",
   "execution_count": 10,
   "outputs": [
    {
     "name": "stdout",
     "output_type": "stream",
     "text": [
      "test accuracy is: 0.8413\n"
     ]
    },
    {
     "data": {
      "text/plain": "<matplotlib.legend.Legend at 0x165463969a0>"
     },
     "execution_count": 10,
     "metadata": {},
     "output_type": "execute_result"
    },
    {
     "data": {
      "text/plain": "<Figure size 432x288 with 1 Axes>",
      "image/png": "[encoded data removed]"
     },
     "metadata": {
      "needs_background": "light"
     },
     "output_type": "display_data"
    }
   ],
   "source": [
    "print(\"test accuracy is:\", test_acc)\n",
    "\n",
    "plt.plot(train_loss)\n",
    "plt.plot(valid_loss)\n",
    "plt.xlabel(\"Epochs\")\n",
    "plt.ylabel(\"Loss\")\n",
    "plt.title(\"Loss plot\")\n",
    "plt.legend([\"Training Loss\", \"Validation Loss\"])"
   ],
   "metadata": {
    "collapsed": false,
    "pycharm": {
     "name": "#%%\n"
    }
   }
  },
  {
   "cell_type": "markdown",
   "source": [
    "#### Change some hyper-parameters to avoid overfitting"
   ],
   "metadata": {
    "collapsed": false,
    "pycharm": {
     "name": "#%% md\n"
    }
   }
  },
  {
   "cell_type": "code",
   "execution_count": null,
   "outputs": [],
   "source": [],
   "metadata": {
    "collapsed": false,
    "pycharm": {
     "name": "#%%\n"
    }
   }
  },
  {
   "cell_type": "markdown",
   "source": [],
   "metadata": {
    "collapsed": false,
    "pycharm": {
     "name": "#%% md\n"
    }
   }
  },
  {
   "cell_type": "markdown",
   "source": [
    "## (d)"
   ],
   "metadata": {
    "collapsed": false,
    "pycharm": {
     "name": "#%% md\n"
    }
   }
  },
  {
   "cell_type": "markdown",
   "source": [
    "## (e)"
   ],
   "metadata": {
    "collapsed": false,
    "pycharm": {
     "name": "#%% md\n"
    }
   }
  },
  {
   "cell_type": "code",
   "execution_count": 10,
   "outputs": [],
   "source": [],
   "metadata": {
    "collapsed": false,
    "pycharm": {
     "name": "#%%\n"
    }
   }
  },
  {
   "cell_type": "markdown",
   "source": [
    "## (f)"
   ],
   "metadata": {
    "collapsed": false,
    "pycharm": {
     "name": "#%% md\n"
    }
   }
  },
  {
   "cell_type": "code",
   "execution_count": 10,
   "outputs": [],
   "source": [],
   "metadata": {
    "collapsed": false,
    "pycharm": {
     "name": "#%%\n"
    }
   }
  },
  {
   "cell_type": "markdown",
   "source": [],
   "metadata": {
    "collapsed": false,
    "pycharm": {
     "name": "#%% md\n"
    }
   }
  }
 ],
 "metadata": {
  "kernelspec": {
   "display_name": "Python 3",
   "language": "python",
   "name": "python3"
  },
  "language_info": {
   "codemirror_mode": {
    "name": "ipython",
    "version": 2
   },
   "file_extension": ".py",
   "mimetype": "text/x-python",
   "name": "python",
   "nbconvert_exporter": "python",
   "pygments_lexer": "ipython2",
   "version": "2.7.6"
  }
 },
 "nbformat": 4,
 "nbformat_minor": 0
}