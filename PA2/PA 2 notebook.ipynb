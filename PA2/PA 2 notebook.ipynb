{
 "cells": [
  {
   "cell_type": "code",
   "execution_count": 1,
   "metadata": {
    "collapsed": true,
    "pycharm": {
     "name": "#%%\n"
    }
   },
   "outputs": [],
   "source": [
    "import numpy as np\n",
    "\n",
    "import data\n",
    "import neuralnet\n",
    "\n",
    "from matplotlib import pyplot as plt\n",
    "\n",
    "np.random.seed(seed = 100) # fix random seed to make things reproducible"
   ]
  },
  {
   "cell_type": "markdown",
   "source": [
    "## (a) Loading Data"
   ],
   "metadata": {
    "collapsed": false,
    "pycharm": {
     "name": "#%% md\n"
    }
   }
  },
  {
   "cell_type": "code",
   "execution_count": 2,
   "outputs": [
    {
     "data": {
      "text/plain": "((60000, 784), (60000,))"
     },
     "execution_count": 2,
     "metadata": {},
     "output_type": "execute_result"
    }
   ],
   "source": [
    "train_val = data.load_data()\n",
    "train_val[0].shape, train_val[1].shape"
   ],
   "metadata": {
    "collapsed": false,
    "pycharm": {
     "name": "#%%\n"
    }
   }
  },
  {
   "cell_type": "code",
   "execution_count": 3,
   "outputs": [
    {
     "data": {
      "text/plain": "((10000, 784), (10000,))"
     },
     "execution_count": 3,
     "metadata": {},
     "output_type": "execute_result"
    }
   ],
   "source": [
    "test = data.load_data(train=False)\n",
    "test[0].shape, test[1].shape"
   ],
   "metadata": {
    "collapsed": false,
    "pycharm": {
     "name": "#%%\n"
    }
   }
  },
  {
   "cell_type": "markdown",
   "source": [
    "## (b) Check gradient implementation\n",
    "\n",
    "We only use a small subset of data to do this part. Thus, we use 1000 random data from the train/validation set."
   ],
   "metadata": {
    "collapsed": false,
    "pycharm": {
     "name": "#%% md\n"
    }
   }
  },
  {
   "cell_type": "code",
   "execution_count": 4,
   "outputs": [
    {
     "name": "stdout",
     "output_type": "stream",
     "text": [
      "(1000, 784)\n",
      "(1000,)\n"
     ]
    }
   ],
   "source": [
    "# shuffle dataset\n",
    "imgs, labs = train_val\n",
    "\n",
    "shuffled_idx = np.random.permutation(len(train_val[1]))\n",
    "\n",
    "imgs = imgs[shuffled_idx]\n",
    "labs =labs[shuffled_idx]\n",
    "\n",
    "# get a small subset\n",
    "small_set = imgs[: 1000], labs[:1000]\n",
    "print(small_set[0].shape)\n",
    "print(small_set[1].shape)"
   ],
   "metadata": {
    "collapsed": false,
    "pycharm": {
     "name": "#%%\n"
    }
   }
  },
  {
   "cell_type": "code",
   "execution_count": 5,
   "outputs": [],
   "source": [
    "# get a network first\n",
    "config = data.load_config((\"./config.yaml\"))\n",
    "nn = neuralnet.NeuralNetwork(config)"
   ],
   "metadata": {
    "collapsed": false,
    "pycharm": {
     "name": "#%%\n"
    }
   }
  },
  {
   "cell_type": "code",
   "execution_count": 6,
   "outputs": [],
   "source": [
    "small_x, small_y = small_set[0], small_set[1]\n",
    "\n",
    "# get a nn\n",
    "output = nn(small_x, targets=small_y)\n",
    "\n",
    "# get weights by backpropagation\n",
    "nn.backward()"
   ],
   "metadata": {
    "collapsed": false,
    "pycharm": {
     "name": "#%%\n"
    }
   }
  },
  {
   "cell_type": "code",
   "execution_count": 7,
   "outputs": [
    {
     "data": {
      "text/plain": "array([[ 0.00000000e+00,  0.00000000e+00,  0.00000000e+00, ...,\n         0.00000000e+00, -5.81427328e-14,  0.00000000e+00],\n       [ 0.00000000e+00, -8.13778075e-03,  0.00000000e+00, ...,\n         0.00000000e+00, -4.33427645e-13, -4.98570530e-16],\n       [-2.89773635e-16, -1.14742709e+00, -4.61193077e-05, ...,\n         0.00000000e+00, -9.19144735e-13, -5.33946920e-09],\n       ...,\n       [-5.57518014e-04,  0.00000000e+00,  8.54225882e-03, ...,\n        -3.60973112e-06,  1.41780635e-09,  6.70810022e-09],\n       [ 0.00000000e+00,  0.00000000e+00,  1.01254512e-02, ...,\n         0.00000000e+00,  1.02790960e-08,  3.50552334e-09],\n       [ 0.00000000e+00,  0.00000000e+00,  9.83882445e-03, ...,\n         0.00000000e+00,  5.67122539e-09,  0.00000000e+00]])"
     },
     "execution_count": 7,
     "metadata": {},
     "output_type": "execute_result"
    }
   ],
   "source": [
    "nn.layers[0].d_w"
   ],
   "metadata": {
    "collapsed": false,
    "pycharm": {
     "name": "#%%\n"
    }
   }
  }
 ],
 "metadata": {
  "kernelspec": {
   "display_name": "Python 3",
   "language": "python",
   "name": "python3"
  },
  "language_info": {
   "codemirror_mode": {
    "name": "ipython",
    "version": 2
   },
   "file_extension": ".py",
   "mimetype": "text/x-python",
   "name": "python",
   "nbconvert_exporter": "python",
   "pygments_lexer": "ipython2",
   "version": "2.7.6"
  }
 },
 "nbformat": 4,
 "nbformat_minor": 0
}